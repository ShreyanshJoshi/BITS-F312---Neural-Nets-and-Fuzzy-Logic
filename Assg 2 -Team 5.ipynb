{
  "cells": [
    {
      "cell_type": "markdown",
      "metadata": {
        "id": "eXU_OIWo1lIB"
      },
      "source": [
        "# NNFL Assignment 2 (Fall '21)\n",
        "You have been given a set of videos (coloured) labeled either as \"fire\" or \"not_fire\". Your task to process this data as you see fit and create a model that will classify the unlabeled data present in the test folder. This time, the temporal correlations between frames of a video have to be exploited."
      ]
    },
    {
      "cell_type": "code",
      "execution_count": null,
      "metadata": {
        "id": "4IIrNVRxBQbo"
      },
      "outputs": [],
      "source": [
        "import cv2\n",
        "import os\n",
        "from google.colab.patches import cv2_imshow\n",
        "import matplotlib.pyplot as plt\n",
        "import tensorflow as tf\n",
        "from tensorflow.keras.preprocessing import image\n",
        "import seaborn as sns\n",
        "import pandas as pd\n",
        "import numpy as np\n",
        "from numpy import newaxis\n",
        "import keras\n",
        "import os, random, shutil, cv2\n",
        "from shutil import copyfile, copy\n",
        "from keras import applications,activations\n",
        "from keras.preprocessing.image import ImageDataGenerator,load_img,img_to_array\n",
        "from keras import optimizers,utils\n",
        "from keras.models import Sequential, Model \n",
        "from keras.layers import Dropout, Flatten, Dense, GlobalAveragePooling2D,BatchNormalization,ZeroPadding2D, Input, SeparableConv2D\n",
        "from keras.layers import Conv2D, Conv3D, Activation, MaxPooling2D, MaxPool3D, ConvLSTM2D, MaxPooling3D, TimeDistributed, LSTM\n",
        "from keras import backend as k \n",
        "from keras.callbacks import ModelCheckpoint, LearningRateScheduler, TensorBoard, EarlyStopping, ReduceLROnPlateau"
      ]
    },
    {
      "cell_type": "code",
      "execution_count": null,
      "metadata": {
        "colab": {
          "base_uri": "https://localhost:8080/"
        },
        "id": "k49rN4wy-oxK",
        "outputId": "013ba726-c78d-48ea-c867-86729a977401"
      },
      "outputs": [
        {
          "name": "stdout",
          "output_type": "stream",
          "text": [
            "Drive already mounted at /content/gdrive; to attempt to forcibly remount, call drive.mount(\"/content/gdrive\", force_remount=True).\n"
          ]
        }
      ],
      "source": [
        "from google.colab import drive\n",
        "drive.mount('/content/gdrive')"
      ]
    },
    {
      "cell_type": "markdown",
      "metadata": {
        "id": "II2YwYBTzYbT"
      },
      "source": [
        "## Data Preprocessing"
      ]
    },
    {
      "cell_type": "code",
      "execution_count": null,
      "metadata": {
        "colab": {
          "base_uri": "https://localhost:8080/"
        },
        "id": "MMWn0DC6S6T_",
        "outputId": "d96bcaf5-9eb2-4a1a-e017-1701c7e394ff"
      },
      "outputs": [
        {
          "name": "stdout",
          "output_type": "stream",
          "text": [
            "1_16 -->  150\n",
            "1_18 -->  90\n",
            "1_15 -->  90\n",
            "1_11 -->  120\n",
            "1_14 -->  90\n",
            "1_13 -->  90\n",
            "1_1 -->  102\n",
            "1_17 -->  255\n",
            "1_12 -->  280\n",
            "1_10 -->  120\n",
            "1_19 -->  242\n",
            "1_2 -->  167\n",
            "1_25 -->  89\n",
            "1_29 -->  94\n",
            "1_21 -->  259\n",
            "1_26 -->  163\n",
            "1_27 -->  88\n",
            "1_22 -->  60\n",
            "1_23 -->  198\n",
            "1_28 -->  90\n",
            "1_20 -->  221\n",
            "1_24 -->  198\n",
            "1_34 -->  393\n",
            "1_31 -->  60\n",
            "1_3 -->  109\n",
            "1_32 -->  147\n",
            "1_36 -->  128\n",
            "1_30 -->  57\n",
            "1_37 -->  134\n",
            "1_39 -->  120\n",
            "1_33 -->  103\n",
            "1_35 -->  287\n",
            "1_38 -->  296\n",
            "1_48 -->  1201\n",
            "1_42 -->  120\n",
            "1_41 -->  330\n",
            "1_47 -->  208\n",
            "1_43 -->  140\n",
            "1_44 -->  439\n",
            "1_4 -->  150\n",
            "1_45 -->  260\n",
            "1_46 -->  246\n",
            "1_40 -->  121\n",
            "1_53 -->  219\n",
            "1_57 -->  510\n",
            "1_49 -->  708\n",
            "1_52 -->  255\n",
            "1_51 -->  245\n",
            "1_5 -->  90\n",
            "1_56 -->  293\n",
            "1_50 -->  200\n",
            "1_54 -->  216\n",
            "1_59 -->  1655\n",
            "1_55 -->  218\n",
            "1_58 -->  381\n",
            "1_61 -->  258\n",
            "1_63 -->  513\n",
            "1_60 -->  2406\n",
            "1_6 -->  120\n",
            "1_62 -->  547\n",
            "2_2 -->  216\n",
            "2_12 -->  216\n",
            "2_14 -->  99\n",
            "2_18 -->  143\n",
            "2_1 -->  84\n",
            "2_19 -->  96\n",
            "2_20 -->  305\n",
            "2_16 -->  120\n",
            "2_13 -->  303\n",
            "2_17 -->  167\n",
            "2_15 -->  235\n",
            "2_11 -->  402\n",
            "2_10 -->  219\n",
            "2_31 -->  119\n",
            "2_29 -->  307\n",
            "2_22 -->  286\n",
            "2_32 -->  6103\n",
            "2_27 -->  216\n",
            "2_28 -->  216\n",
            "2_23 -->  145\n",
            "2_30 -->  96\n",
            "2_24 -->  120\n",
            "2_26 -->  399\n",
            "2_21 -->  184\n",
            "2_25 -->  202\n",
            "2_3 -->  150\n",
            "2_33 -->  5960\n",
            "2_35 -->  399\n",
            "2_34 -->  434\n",
            "2_36 -->  141\n",
            "2_37 -->  86\n",
            "2_38 -->  4539\n",
            "2_41 -->  1931\n",
            "2_39 -->  155\n",
            "2_4 -->  367\n",
            "2_40 -->  160\n",
            "2_42 -->  439\n",
            "2_43 -->  1142\n",
            "2_45 -->  3761\n",
            "2_44 -->  541\n",
            "2_46 -->  645\n",
            "2_47 -->  246\n",
            "2_48 -->  180\n",
            "2_49 -->  514\n",
            "2_5 -->  379\n",
            "2_50 -->  271\n",
            "2_52 -->  58\n",
            "2_51 -->  45\n",
            "2_53 -->  196\n",
            "2_55 -->  1400\n",
            "2_54 -->  851\n",
            "2_56 -->  483\n",
            "2_57 -->  342\n",
            "2_58 -->  6046\n",
            "2_59 -->  900\n",
            "2_6 -->  155\n",
            "2_60 -->  609\n",
            "2_61 -->  1726\n",
            "2_62 -->  900\n",
            "2_63 -->  244\n",
            "[('1_16', 150), ('1_18', 90), ('1_15', 90), ('1_11', 120), ('1_14', 90), ('1_13', 90), ('1_1', 102), ('1_17', 255), ('1_12', 280), ('1_10', 120), ('1_19', 242), ('1_2', 167), ('1_25', 89), ('1_29', 94), ('1_21', 259), ('1_26', 163), ('1_27', 88), ('1_22', 60), ('1_23', 198), ('1_28', 90), ('1_20', 221), ('1_24', 198), ('1_34', 393), ('1_31', 60), ('1_3', 109), ('1_32', 147), ('1_36', 128), ('1_30', 57), ('1_37', 134), ('1_39', 120), ('1_33', 103), ('1_35', 287), ('1_38', 296), ('1_48', 1201), ('1_42', 120), ('1_41', 330), ('1_47', 208), ('1_43', 140), ('1_44', 439), ('1_4', 150), ('1_45', 260), ('1_46', 246), ('1_40', 121), ('1_53', 219), ('1_57', 510), ('1_49', 708), ('1_52', 255), ('1_51', 245), ('1_5', 90), ('1_56', 293), ('1_50', 200), ('1_54', 216), ('1_59', 1655), ('1_55', 218), ('1_58', 381), ('1_61', 258), ('1_63', 513), ('1_60', 2406), ('1_6', 120), ('1_62', 547), ('2_2', 216), ('2_12', 216), ('2_14', 99), ('2_18', 143), ('2_1', 84), ('2_19', 96), ('2_20', 305), ('2_16', 120), ('2_13', 303), ('2_17', 167), ('2_15', 235), ('2_11', 402), ('2_10', 219), ('2_31', 119), ('2_29', 307), ('2_22', 286), ('2_32', 6103), ('2_27', 216), ('2_28', 216), ('2_23', 145), ('2_30', 96), ('2_24', 120), ('2_26', 399), ('2_21', 184), ('2_25', 202), ('2_3', 150), ('2_33', 5960), ('2_35', 399), ('2_34', 434), ('2_36', 141), ('2_37', 86), ('2_38', 4539), ('2_41', 1931), ('2_39', 155), ('2_4', 367), ('2_40', 160), ('2_42', 439), ('2_43', 1142), ('2_45', 3761), ('2_44', 541), ('2_46', 645), ('2_47', 246), ('2_48', 180), ('2_49', 514), ('2_5', 379), ('2_50', 271), ('2_52', 58), ('2_51', 45), ('2_53', 196), ('2_55', 1400), ('2_54', 851), ('2_56', 483), ('2_57', 342), ('2_58', 6046), ('2_59', 900), ('2_6', 155), ('2_60', 609), ('2_61', 1726), ('2_62', 900), ('2_63', 244)]\n"
          ]
        }
      ],
      "source": [
        "# Extract frames from training videos, and storing them in another directory \"train_frames\"\n",
        "\n",
        "path = '/content/gdrive/MyDrive/nnfl-2021-assignment-2/train'\n",
        "path1  = '/content/gdrive/MyDrive/nnfl-2021-assignment-2/train_frames'\n",
        "train_list = []\n",
        "\n",
        "for obj in os.listdir(path):                  # Iterating over videos in the directory\n",
        "    x = obj.split('.')\n",
        "    loc =  os.path.join(path,obj)\n",
        "    loc1 =  os.path.join(path1,x[0])\n",
        "    vidObj = cv2.VideoCapture(loc)\n",
        "    count = 0                                   # Used as counter variable\n",
        "    success = 1\n",
        "    while success:                              # Reading all frames of a particular video (vidObj)\n",
        "        success, image = vidObj.read()\n",
        "        if success == 1:\n",
        "            path_name = loc1 + '_' + str(count)+'.jpg'\n",
        "            if not os.path.exists(path_name):\n",
        "                cv2.imwrite(path_name, image)\n",
        "            count += 1\n",
        "\n",
        "        else:\n",
        "            if count < 5:\n",
        "                success = 1\n",
        "\n",
        "            else:\n",
        "                break\n",
        "\n",
        "    train_list.append((x[0],count))\n",
        "    print(x[0], '--> ', count)                  # Prints no. of frames per video     \n",
        "    vidObj.release()\n",
        "\n",
        "print(train_list)"
      ]
    },
    {
      "cell_type": "code",
      "execution_count": null,
      "metadata": {
        "colab": {
          "base_uri": "https://localhost:8080/",
          "height": 203
        },
        "id": "7ge3e_XJO7nK",
        "outputId": "3c3bd559-53d4-4150-e102-91e9249d5361"
      },
      "outputs": [
        {
          "data": {
            "text/html": [
              "<div>\n",
              "<style scoped>\n",
              "    .dataframe tbody tr th:only-of-type {\n",
              "        vertical-align: middle;\n",
              "    }\n",
              "\n",
              "    .dataframe tbody tr th {\n",
              "        vertical-align: top;\n",
              "    }\n",
              "\n",
              "    .dataframe thead th {\n",
              "        text-align: right;\n",
              "    }\n",
              "</style>\n",
              "<table border=\"1\" class=\"dataframe\">\n",
              "  <thead>\n",
              "    <tr style=\"text-align: right;\">\n",
              "      <th></th>\n",
              "      <th>File</th>\n",
              "      <th>True_Label</th>\n",
              "    </tr>\n",
              "  </thead>\n",
              "  <tbody>\n",
              "    <tr>\n",
              "      <th>0</th>\n",
              "      <td>1_1.avi</td>\n",
              "      <td>fire</td>\n",
              "    </tr>\n",
              "    <tr>\n",
              "      <th>1</th>\n",
              "      <td>1_10.avi</td>\n",
              "      <td>fire</td>\n",
              "    </tr>\n",
              "    <tr>\n",
              "      <th>2</th>\n",
              "      <td>1_11.avi</td>\n",
              "      <td>fire</td>\n",
              "    </tr>\n",
              "    <tr>\n",
              "      <th>3</th>\n",
              "      <td>1_12.avi</td>\n",
              "      <td>fire</td>\n",
              "    </tr>\n",
              "    <tr>\n",
              "      <th>4</th>\n",
              "      <td>1_13.avi</td>\n",
              "      <td>fire</td>\n",
              "    </tr>\n",
              "  </tbody>\n",
              "</table>\n",
              "</div>"
            ],
            "text/plain": [
              "       File True_Label\n",
              "0   1_1.avi       fire\n",
              "1  1_10.avi       fire\n",
              "2  1_11.avi       fire\n",
              "3  1_12.avi       fire\n",
              "4  1_13.avi       fire"
            ]
          },
          "execution_count": 19,
          "metadata": {},
          "output_type": "execute_result"
        }
      ],
      "source": [
        "df_train = pd.read_csv('/content/gdrive/MyDrive/nnfl-2021-assignment-2/train.csv')\n",
        "df_train.head()"
      ]
    },
    {
      "cell_type": "code",
      "execution_count": null,
      "metadata": {
        "colab": {
          "base_uri": "https://localhost:8080/"
        },
        "id": "-6hVB7wvRp9A",
        "outputId": "99e95650-12b7-4224-dff5-252a6ec32361"
      },
      "outputs": [
        {
          "data": {
            "text/plain": [
              "<bound method DataFrame.info of          File True_Label\n",
              "0     1_1.avi       fire\n",
              "1    1_10.avi       fire\n",
              "2    1_11.avi       fire\n",
              "3    1_12.avi       fire\n",
              "4    1_13.avi       fire\n",
              "..        ...        ...\n",
              "115   2_6.avi   not_fire\n",
              "116  2_60.avi   not_fire\n",
              "117  2_61.avi   not_fire\n",
              "118  2_62.avi   not_fire\n",
              "119  2_63.avi   not_fire\n",
              "\n",
              "[120 rows x 2 columns]>"
            ]
          },
          "execution_count": 20,
          "metadata": {},
          "output_type": "execute_result"
        }
      ],
      "source": [
        "df_train.info"
      ]
    },
    {
      "cell_type": "code",
      "execution_count": null,
      "metadata": {
        "colab": {
          "base_uri": "https://localhost:8080/"
        },
        "id": "BK-hc8E1Qe_H",
        "outputId": "824f0da1-8e9d-4850-cb2c-05a97da452be"
      },
      "outputs": [
        {
          "name": "stdout",
          "output_type": "stream",
          "text": [
            "['1_1', '1_10', '1_11', '1_12', '1_13', '1_14', '1_15', '1_16', '1_17', '1_18', '1_19', '1_2', '1_20', '1_21', '1_22', '1_23', '1_24', '1_25', '1_26', '1_27', '1_28', '1_29', '1_3', '1_30', '1_31', '1_32', '1_33', '1_34', '1_35', '1_36', '1_37', '1_38', '1_39', '1_4', '1_40', '1_41', '1_42', '1_43', '1_44', '1_45', '1_46', '1_47', '1_48', '1_49', '1_5', '1_50', '1_51', '1_52', '1_53', '1_54', '1_55', '1_56', '1_57', '1_58', '1_59', '1_6', '1_60', '1_61', '1_62', '1_63']\n",
            "60\n",
            "60\n"
          ]
        }
      ],
      "source": [
        "# Lists, fire and not_fire contain the video number of videos in their corresponding category\n",
        "fire = []\n",
        "not_fire = []\n",
        "\n",
        "for i in range(len(df_train)):\n",
        "    file_name = df_train.loc[i,'File'].split('.')[0]\n",
        "    if df_train.loc[i,\"True_Label\"]==\"fire\":\n",
        "      fire.append(file_name)\n",
        "\n",
        "    else:\n",
        "      not_fire.append(file_name)\n",
        "\n",
        "print(fire)\n",
        "print(len(fire))\n",
        "print(len(not_fire))\n",
        "\n",
        "# Equally distributed in terms of classes. Hence, no need to specifically handle data imbalance."
      ]
    },
    {
      "cell_type": "code",
      "execution_count": null,
      "metadata": {
        "colab": {
          "base_uri": "https://localhost:8080/"
        },
        "id": "aScWJTF6YBzq",
        "outputId": "18b7ef58-e36a-4397-906b-1cad7a54c513"
      },
      "outputs": [
        {
          "name": "stdout",
          "output_type": "stream",
          "text": [
            "[['1_16' '150']\n",
            " ['1_18' '90']\n",
            " ['1_15' '90']\n",
            " ['1_11' '120']\n",
            " ['1_14' '90']]\n",
            "120\n",
            "64532\n"
          ]
        }
      ],
      "source": [
        "print(train_list[:5])               # Printing just to see a few samples\n",
        "print(len(train_list))\n",
        "total_img = 0\n",
        "for i in train_list:\n",
        "    total_img += int(i[1])\n",
        "\n",
        "print(total_img)                    # Total images/frames across all videos"
      ]
    },
    {
      "cell_type": "code",
      "execution_count": null,
      "metadata": {
        "colab": {
          "base_uri": "https://localhost:8080/"
        },
        "id": "EZIhCx-ihWmW",
        "outputId": "ee9a6141-93d5-4855-f5d4-c5250f925e26"
      },
      "outputs": [],
      "source": [
        "# Getting all frames for each video, and storing them in a list of lists.\n",
        "\n",
        "path1  = '/content/gdrive/MyDrive/nnfl-2021-assignment-2/train_frames'\n",
        "\n",
        "all_files = [f for f in os.listdir(path1)]\n",
        "get_frames = [[] for i in range(len(train_list))]\n",
        "print(all_files)\n",
        "\n",
        "temp = [i[0] for i in train_list]\n",
        "\n",
        "for _file in all_files:\n",
        "    file_name = _file.split('_')\n",
        "    video_name = file_name[0]+\"_\"+file_name[1]\n",
        "    try:\n",
        "        get_frames[temp.index(video_name)].append(_file)\n",
        "    except:\n",
        "        pass\n",
        "\n",
        "# get_frames will be a list of lists, where each list contains names of all frames of a video. get_frames[i] contains frames of train_list[i][0] video."
      ]
    },
    {
      "cell_type": "code",
      "execution_count": null,
      "metadata": {
        "colab": {
          "base_uri": "https://localhost:8080/"
        },
        "id": "RXA7Qq_KuZlX",
        "outputId": "2e1dcad1-c8f8-4f50-c4ae-565e32058694"
      },
      "outputs": [
        {
          "name": "stdout",
          "output_type": "stream",
          "text": [
            "64532\n",
            "120\n"
          ]
        }
      ],
      "source": [
        "print(len(all_files))                   # total files...since it matches with the count of train_list, nothing has been missed\n",
        "print(len(get_frames))                  # should be 120 (equal to number of videos)"
      ]
    },
    {
      "cell_type": "code",
      "execution_count": null,
      "metadata": {
        "id": "hpCTpxsCx1LP"
      },
      "outputs": [],
      "source": [
        "# req_frames contains 10 frames per video in the same order as train_list. So, req_frames[i] will have names of 10 equally spaced frames of video\n",
        "# train_list[i][0]\n",
        "req_frames = []\n",
        "for i in range(len(get_frames)):\n",
        "    x = len(get_frames[i]) // 10\n",
        "    req_frames.append([])\n",
        "\n",
        "    for j in range(0,len(get_frames[i]),x):               # taking frames over interval of x, so that they are equally spaced\n",
        "        req_frames[-1].append(get_frames[i][j])\n",
        "        if len(req_frames[-1]) == 10:\n",
        "            break"
      ]
    },
    {
      "cell_type": "code",
      "execution_count": null,
      "metadata": {
        "id": "7cQdR8djzuW5"
      },
      "outputs": [],
      "source": [
        "# data and labels, are 2 lists (later converted to numpy arrays), that contain the exact data to be fed into a model for training. Now that we know\n",
        "# which frames we want from a video, we simply iterate over the directory, find that frame (image), convert it into an array, and store it. Later,\n",
        "# since we want to exploit the temporal correlation between frames of a video, we simply concatenate the frames depthwise. \n",
        "\n",
        "data = []\n",
        "labels = []\n",
        "directory = \"/content/gdrive/MyDrive/nnfl-2021-assignment-2/train_frames\"\n",
        "\n",
        "for i in range(len(train_list)):\n",
        "    video_num = train_list[i][0]\n",
        "    frames = []                                                   # contains the numpy arrays of images belonging to this video that we would be using\n",
        "    for j in range(len(req_frames[i])):\n",
        "        for filename in os.listdir(directory):                    # Iterate over the entire directory to find images of a particular video\n",
        "            f = os.path.join(directory, filename)\n",
        "            image_name = f.split('/')[6]\n",
        "\n",
        "            if image_name==req_frames[i][j]:\n",
        "                img_arr = img_to_array(load_img(directory+'/'+image_name, target_size=(128,128)))\n",
        "                frames.append(img_arr)\n",
        "                break\n",
        "\n",
        "    final = np.concatenate([frames], axis=0)                      # concatenate frames depthwise\n",
        "    data.append(final)\n",
        "\n",
        "    if video_num in fire:\n",
        "        labels.append(1)\n",
        "    else:\n",
        "        labels.append(0)                "
      ]
    },
    {
      "cell_type": "code",
      "execution_count": null,
      "metadata": {
        "id": "UnyEdlghy6k7"
      },
      "outputs": [],
      "source": [
        "# Converting lists to numpy arrays, and normalizing data\n",
        "data = np.array(data)\n",
        "labels = np.array(labels)\n",
        "data = data / 255."
      ]
    },
    {
      "cell_type": "code",
      "execution_count": null,
      "metadata": {
        "colab": {
          "base_uri": "https://localhost:8080/"
        },
        "id": "Ir6pIx4BhuHQ",
        "outputId": "6c60c6e9-6d12-4cbe-853d-0c0c29c92dce"
      },
      "outputs": [
        {
          "name": "stdout",
          "output_type": "stream",
          "text": [
            "(120, 10, 128, 128, 3)\n",
            "(120,)\n",
            "(array([0, 1]), array([60, 60]))\n"
          ]
        }
      ],
      "source": [
        "print(data.shape)              \n",
        "print(labels.shape)             \n",
        "print(np.unique(labels, return_counts=True))"
      ]
    },
    {
      "cell_type": "code",
      "execution_count": null,
      "metadata": {
        "id": "n4So0kiAx-Bz"
      },
      "outputs": [],
      "source": [
        "# OHE the labels, and dividing data into training and validation in the ratio 75:25\n",
        "from keras.utils import np_utils\n",
        "from sklearn.model_selection import train_test_split\n",
        "labels = np_utils.to_categorical(labels, 2)\n",
        "\n",
        "(trainX, valX, trainY, valY) = train_test_split(data, labels, test_size=0.25, stratify=labels)"
      ]
    },
    {
      "cell_type": "code",
      "execution_count": null,
      "metadata": {
        "colab": {
          "base_uri": "https://localhost:8080/"
        },
        "id": "8mB7j8eKzIDt",
        "outputId": "45cb0d56-94a8-4b7e-9186-83c8ddd8161a"
      },
      "outputs": [
        {
          "name": "stdout",
          "output_type": "stream",
          "text": [
            "(90, 10, 256, 256, 3)\n",
            "(30, 10, 256, 256, 3)\n",
            "(90, 2)\n"
          ]
        }
      ],
      "source": [
        "print(trainX.shape)\n",
        "print(valX.shape)\n",
        "print(trainY.shape)"
      ]
    },
    {
      "cell_type": "markdown",
      "metadata": {
        "id": "2nbatL5ZzfM4"
      },
      "source": [
        "## Model Architecture and Training"
      ]
    },
    {
      "cell_type": "markdown",
      "metadata": {
        "id": "wntd5J0APRkj"
      },
      "source": [
        "###CNN-LSTM"
      ]
    },
    {
      "cell_type": "code",
      "execution_count": null,
      "metadata": {
        "id": "ldGKWjkRyAbi"
      },
      "outputs": [],
      "source": [
        "model = Sequential()\n",
        "model.add(ConvLSTM2D(32, kernel_size=(3, 3), strides=(1,1), return_sequences=True, activation='relu', input_shape=(10, 128, 128, 3)))\n",
        "model.add(MaxPooling3D((1,2,2)))\n",
        "\n",
        "model.add(Flatten())\n",
        "\n",
        "model.add(Dense(64, activation='relu'))\n",
        "model.add(Dropout(.3))\n",
        "\n",
        "model.add(Dense(2, activation='softmax'))"
      ]
    },
    {
      "cell_type": "code",
      "execution_count": null,
      "metadata": {
        "id": "q6X6AwLOyF6F"
      },
      "outputs": [],
      "source": [
        "from keras.callbacks import ReduceLROnPlateau\n",
        "model.compile(optimizer = tf.keras.optimizers.Adam(0.003), loss='categorical_crossentropy', metrics =['accuracy'])\n",
        "reduce_lr = ReduceLROnPlateau(monitor='val_loss', factor=0.5, patience=3, min_lr=0.0001)"
      ]
    },
    {
      "cell_type": "code",
      "execution_count": null,
      "metadata": {
        "id": "TRWIp_nDunsb"
      },
      "outputs": [],
      "source": [
        "model_fit = model.fit(trainX, trainY, epochs=24, batch_size=16, steps_per_epoch=len(trainX)//16, validation_data=(valX, valY), callbacks=[reduce_lr])"
      ]
    },
    {
      "cell_type": "code",
      "execution_count": null,
      "metadata": {
        "colab": {
          "base_uri": "https://localhost:8080/",
          "height": 295
        },
        "id": "unhuTxAt7fRv",
        "outputId": "52632947-fafe-417c-8e0c-07bd5e02b9df"
      },
      "outputs": [
        {
          "data": {
            "image/png": "[encoded data removed]",
            "text/plain": [
              "<Figure size 432x288 with 1 Axes>"
            ]
          },
          "metadata": {},
          "output_type": "display_data"
        }
      ],
      "source": [
        "plt.plot(model_fit.history['accuracy'])\n",
        "plt.plot(model_fit.history['val_accuracy'])\n",
        "plt.title('model accuracy')\n",
        "plt.ylabel('accuracy')\n",
        "plt.xlabel('epoch')\n",
        "plt.legend(['Train', 'Cross-validation'], loc='upper left')\n",
        "plt.show()"
      ]
    },
    {
      "cell_type": "code",
      "execution_count": null,
      "metadata": {
        "colab": {
          "base_uri": "https://localhost:8080/",
          "height": 295
        },
        "id": "xPznoASR7f8D",
        "outputId": "0b1598f2-b5c2-45cd-9749-184d858aef0b"
      },
      "outputs": [
        {
          "data": {
            "image/png": "[encoded data removed]",
            "text/plain": [
              "<Figure size 432x288 with 1 Axes>"
            ]
          },
          "metadata": {},
          "output_type": "display_data"
        }
      ],
      "source": [
        "plt.plot(model_fit.history['loss'])\n",
        "plt.plot(model_fit.history['val_loss'])\n",
        "plt.title('Model Loss')\n",
        "plt.ylabel('Loss')\n",
        "plt.xlabel('epoch')\n",
        "plt.legend(['Train', 'Cross-validation'], loc='upper left')\n",
        "plt.show()"
      ]
    },
    {
      "cell_type": "markdown",
      "metadata": {
        "id": "Z7oFPbxaPWmI"
      },
      "source": [
        "###CNN+LSTM (Time distributed)"
      ]
    },
    {
      "cell_type": "code",
      "execution_count": null,
      "metadata": {
        "colab": {
          "base_uri": "https://localhost:8080/"
        },
        "id": "GVQXuj84usyP",
        "outputId": "fb58aa64-0adf-4311-be8b-3e72b54c450e"
      },
      "outputs": [
        {
          "name": "stdout",
          "output_type": "stream",
          "text": [
            "WARNING:tensorflow:Layer lstm_1 will not use cuDNN kernels since it doesn't meet the criteria. It will use a generic GPU kernel as fallback when running on GPU.\n"
          ]
        }
      ],
      "source": [
        "model = Sequential()\n",
        "model.add(TimeDistributed(Conv2D(64, (3,3), activation='relu'), input_shape=(10, 128, 128, 3)))\n",
        "model.add(TimeDistributed(MaxPooling2D((2,2))))\n",
        "\n",
        "model.add(TimeDistributed(Conv2D(128, (3,3), activation='relu')))\n",
        "model.add(TimeDistributed(MaxPooling2D((2,2))))\n",
        "\n",
        "model.add(TimeDistributed(Flatten()))\n",
        "model.add(Dropout(.4))\n",
        "\n",
        "model.add(LSTM(32, activation='relu', dropout=0.4, return_sequences=False))\n",
        "\n",
        "model.add(Dense(96, activation='relu'))\n",
        "model.add(Dropout(.4))\n",
        "\n",
        "model.add(Dense(32, activation='relu'))\n",
        "model.add(Dropout(.3))\n",
        "\n",
        "model.add(Dense(2, activation='softmax'))"
      ]
    },
    {
      "cell_type": "code",
      "execution_count": null,
      "metadata": {
        "id": "XQCUtZ1rusyR"
      },
      "outputs": [],
      "source": [
        "from keras.callbacks import ReduceLROnPlateau\n",
        "model.compile(optimizer = tf.keras.optimizers.Adam(0.003), loss='categorical_crossentropy', metrics =['accuracy'])\n",
        "reduce_lr = ReduceLROnPlateau(monitor='val_loss', factor=0.5, patience=3, min_lr=0.0001)"
      ]
    },
    {
      "cell_type": "code",
      "execution_count": null,
      "metadata": {
        "colab": {
          "base_uri": "https://localhost:8080/"
        },
        "id": "X4N5vhVgusyS",
        "outputId": "76316a82-4e0e-4e30-9d42-5944c1f22e93"
      },
      "outputs": [
        {
          "name": "stdout",
          "output_type": "stream",
          "text": [
            "Epoch 1/24\n",
            "5/5 [==============================] - 8s 838ms/step - loss: 11.6957 - accuracy: 0.6000 - val_loss: 1.0469 - val_accuracy: 0.4667 - lr: 0.0030\n",
            "Epoch 2/24\n",
            "5/5 [==============================] - 3s 446ms/step - loss: 1.1937 - accuracy: 0.4865 - val_loss: 0.6927 - val_accuracy: 0.5000 - lr: 0.0030\n",
            "Epoch 3/24\n",
            "5/5 [==============================] - 2s 412ms/step - loss: 0.6905 - accuracy: 0.5000 - val_loss: 0.6871 - val_accuracy: 0.5000 - lr: 0.0030\n",
            "Epoch 4/24\n",
            "5/5 [==============================] - 2s 407ms/step - loss: 0.6646 - accuracy: 0.5676 - val_loss: 0.5821 - val_accuracy: 0.6667 - lr: 0.0030\n",
            "Epoch 5/24\n",
            "5/5 [==============================] - 2s 410ms/step - loss: 0.6251 - accuracy: 0.5946 - val_loss: 0.6765 - val_accuracy: 0.5667 - lr: 0.0030\n",
            "Epoch 6/24\n",
            "5/5 [==============================] - 2s 411ms/step - loss: 0.7527 - accuracy: 0.5000 - val_loss: 0.6741 - val_accuracy: 0.6000 - lr: 0.0030\n",
            "Epoch 7/24\n",
            "5/5 [==============================] - 2s 442ms/step - loss: 0.6077 - accuracy: 0.6125 - val_loss: 0.7978 - val_accuracy: 0.5667 - lr: 0.0030\n",
            "Epoch 8/24\n",
            "5/5 [==============================] - 2s 434ms/step - loss: 0.5080 - accuracy: 0.7568 - val_loss: 0.4857 - val_accuracy: 0.7333 - lr: 0.0015\n",
            "Epoch 9/24\n",
            "5/5 [==============================] - 2s 408ms/step - loss: 0.4267 - accuracy: 0.7568 - val_loss: 0.9422 - val_accuracy: 0.7333 - lr: 0.0015\n",
            "Epoch 10/24\n",
            "5/5 [==============================] - 2s 408ms/step - loss: 0.6196 - accuracy: 0.7162 - val_loss: 0.5348 - val_accuracy: 0.7333 - lr: 0.0015\n",
            "Epoch 11/24\n",
            "5/5 [==============================] - 2s 415ms/step - loss: 0.5515 - accuracy: 0.6757 - val_loss: 0.5919 - val_accuracy: 0.6667 - lr: 0.0015\n",
            "Epoch 12/24\n",
            "5/5 [==============================] - 2s 409ms/step - loss: 0.5268 - accuracy: 0.7297 - val_loss: 0.5456 - val_accuracy: 0.7000 - lr: 7.5000e-04\n",
            "Epoch 13/24\n",
            "5/5 [==============================] - 2s 435ms/step - loss: 0.4132 - accuracy: 0.8375 - val_loss: 0.5075 - val_accuracy: 0.7667 - lr: 7.5000e-04\n",
            "Epoch 14/24\n",
            "5/5 [==============================] - 2s 438ms/step - loss: 0.3823 - accuracy: 0.7838 - val_loss: 0.5534 - val_accuracy: 0.6667 - lr: 7.5000e-04\n",
            "Epoch 15/24\n",
            "5/5 [==============================] - 2s 410ms/step - loss: 0.3375 - accuracy: 0.8108 - val_loss: 0.4035 - val_accuracy: 0.7667 - lr: 3.7500e-04\n",
            "Epoch 16/24\n",
            "5/5 [==============================] - 2s 407ms/step - loss: 0.3124 - accuracy: 0.8243 - val_loss: 0.3972 - val_accuracy: 0.8000 - lr: 3.7500e-04\n",
            "Epoch 17/24\n",
            "5/5 [==============================] - 2s 411ms/step - loss: 0.3284 - accuracy: 0.8108 - val_loss: 0.6233 - val_accuracy: 0.7333 - lr: 3.7500e-04\n",
            "Epoch 18/24\n",
            "5/5 [==============================] - 2s 414ms/step - loss: 0.3463 - accuracy: 0.8378 - val_loss: 0.4667 - val_accuracy: 0.7667 - lr: 3.7500e-04\n",
            "Epoch 19/24\n",
            "5/5 [==============================] - 2s 433ms/step - loss: 0.4976 - accuracy: 0.8500 - val_loss: 0.4994 - val_accuracy: 0.8000 - lr: 3.7500e-04\n",
            "Epoch 20/24\n",
            "5/5 [==============================] - 2s 434ms/step - loss: 0.2567 - accuracy: 0.8919 - val_loss: 0.5165 - val_accuracy: 0.8333 - lr: 1.8750e-04\n",
            "Epoch 21/24\n",
            "5/5 [==============================] - 2s 409ms/step - loss: 0.3056 - accuracy: 0.9054 - val_loss: 0.5376 - val_accuracy: 0.8333 - lr: 1.8750e-04\n",
            "Epoch 22/24\n",
            "5/5 [==============================] - 2s 414ms/step - loss: 0.3533 - accuracy: 0.8919 - val_loss: 0.5577 - val_accuracy: 0.8667 - lr: 1.8750e-04\n",
            "Epoch 23/24\n",
            "5/5 [==============================] - 2s 411ms/step - loss: 0.2204 - accuracy: 0.9459 - val_loss: 0.5687 - val_accuracy: 0.8667 - lr: 1.0000e-04\n",
            "Epoch 24/24\n",
            "5/5 [==============================] - 2s 403ms/step - loss: 0.2218 - accuracy: 0.9054 - val_loss: 0.5843 - val_accuracy: 0.8667 - lr: 1.0000e-04\n"
          ]
        }
      ],
      "source": [
        "model_fit = model.fit(trainX, trainY, epochs=24, batch_size=16, steps_per_epoch=len(trainX)//16, validation_data=(valX, valY), callbacks=[reduce_lr])"
      ]
    },
    {
      "cell_type": "code",
      "execution_count": null,
      "metadata": {
        "colab": {
          "base_uri": "https://localhost:8080/",
          "height": 295
        },
        "id": "5VW8b9-TusyS",
        "outputId": "3d3903cb-d3c6-4f21-809b-8fcedbca7ad3"
      },
      "outputs": [
        {
          "data": {
            "image/png": "[encoded data removed]",
            "text/plain": [
              "<Figure size 432x288 with 1 Axes>"
            ]
          },
          "metadata": {
            "needs_background": "light"
          },
          "output_type": "display_data"
        }
      ],
      "source": [
        "plt.plot(model_fit.history['accuracy'])\n",
        "plt.plot(model_fit.history['val_accuracy'])\n",
        "plt.title('model accuracy')\n",
        "plt.ylabel('accuracy')\n",
        "plt.xlabel('epoch')\n",
        "plt.legend(['Train', 'Cross-validation'], loc='upper left')\n",
        "plt.show()"
      ]
    },
    {
      "cell_type": "code",
      "execution_count": null,
      "metadata": {
        "colab": {
          "base_uri": "https://localhost:8080/",
          "height": 295
        },
        "id": "wG13eDpvusyS",
        "outputId": "924a1dae-20c5-49bb-8bed-bcd8ae12a2b4"
      },
      "outputs": [
        {
          "data": {
            "image/png": "[encoded data removed]",
            "text/plain": [
              "<Figure size 432x288 with 1 Axes>"
            ]
          },
          "metadata": {
            "needs_background": "light"
          },
          "output_type": "display_data"
        }
      ],
      "source": [
        "plt.plot(model_fit.history['loss'])\n",
        "plt.plot(model_fit.history['val_loss'])\n",
        "plt.title('Model Loss')\n",
        "plt.ylabel('Loss')\n",
        "plt.xlabel('epoch')\n",
        "plt.legend(['Train', 'Cross-validation'], loc='upper left')\n",
        "plt.show()"
      ]
    },
    {
      "cell_type": "markdown",
      "metadata": {
        "id": "2I4_AWbczwRK"
      },
      "source": [
        "## Testing and making predictions"
      ]
    },
    {
      "cell_type": "code",
      "execution_count": null,
      "metadata": {
        "colab": {
          "base_uri": "https://localhost:8080/",
          "height": 206
        },
        "id": "IQPqB5bePk2V",
        "outputId": "dd5932aa-ea5a-441a-b4d1-a73cf4a0d9a4"
      },
      "outputs": [
        {
          "data": {
            "text/html": [
              "<div>\n",
              "<style scoped>\n",
              "    .dataframe tbody tr th:only-of-type {\n",
              "        vertical-align: middle;\n",
              "    }\n",
              "\n",
              "    .dataframe tbody tr th {\n",
              "        vertical-align: top;\n",
              "    }\n",
              "\n",
              "    .dataframe thead th {\n",
              "        text-align: right;\n",
              "    }\n",
              "</style>\n",
              "<table border=\"1\" class=\"dataframe\">\n",
              "  <thead>\n",
              "    <tr style=\"text-align: right;\">\n",
              "      <th></th>\n",
              "      <th>File</th>\n",
              "    </tr>\n",
              "  </thead>\n",
              "  <tbody>\n",
              "    <tr>\n",
              "      <th>0</th>\n",
              "      <td>2_7.avi</td>\n",
              "    </tr>\n",
              "    <tr>\n",
              "      <th>1</th>\n",
              "      <td>2_65.avi</td>\n",
              "    </tr>\n",
              "    <tr>\n",
              "      <th>2</th>\n",
              "      <td>1_65.avi</td>\n",
              "    </tr>\n",
              "    <tr>\n",
              "      <th>3</th>\n",
              "      <td>1_69.avi</td>\n",
              "    </tr>\n",
              "    <tr>\n",
              "      <th>4</th>\n",
              "      <td>1_9.avi</td>\n",
              "    </tr>\n",
              "  </tbody>\n",
              "</table>\n",
              "</div>"
            ],
            "text/plain": [
              "       File\n",
              "0   2_7.avi\n",
              "1  2_65.avi\n",
              "2  1_65.avi\n",
              "3  1_69.avi\n",
              "4   1_9.avi"
            ]
          },
          "execution_count": 20,
          "metadata": {},
          "output_type": "execute_result"
        }
      ],
      "source": [
        "df_test = pd.read_csv('/content/gdrive/MyDrive/nnfl-2021-assignment-2/test.csv')\n",
        "df_test.head()"
      ]
    },
    {
      "cell_type": "code",
      "execution_count": null,
      "metadata": {
        "colab": {
          "base_uri": "https://localhost:8080/"
        },
        "id": "HsiXH7zpSTgF",
        "outputId": "de49a2cc-ced2-4e5b-a77a-026845100772"
      },
      "outputs": [
        {
          "data": {
            "text/plain": [
              "<bound method DataFrame.info of         File\n",
              "0    2_7.avi\n",
              "1   2_65.avi\n",
              "2   1_65.avi\n",
              "3   1_69.avi\n",
              "4    1_9.avi\n",
              "5   2_64.avi\n",
              "6    1_7.avi\n",
              "7    1_8.avi\n",
              "8    2_8.avi\n",
              "9    2_9.avi\n",
              "10  1_68.avi\n",
              "11  2_70.avi\n",
              "12  2_66.avi\n",
              "13  2_69.avi\n",
              "14  1_66.avi\n",
              "15  2_68.avi\n",
              "16  1_64.avi\n",
              "17  2_67.avi\n",
              "18  1_70.avi\n",
              "19  1_67.avi>"
            ]
          },
          "execution_count": 21,
          "metadata": {},
          "output_type": "execute_result"
        }
      ],
      "source": [
        "df_test.info"
      ]
    },
    {
      "cell_type": "code",
      "execution_count": null,
      "metadata": {
        "colab": {
          "base_uri": "https://localhost:8080/"
        },
        "id": "q0FlAD8qLgqf",
        "outputId": "be1e9204-cc1e-4993-ba68-5c45b4cf454e"
      },
      "outputs": [
        {
          "name": "stdout",
          "output_type": "stream",
          "text": [
            "1_64 -->  663\n",
            "1_7 -->  65\n",
            "1_9 -->  30\n",
            "1_68 -->  268\n",
            "2_65 -->  2840\n",
            "1_67 -->  42\n",
            "1_70 -->  64\n",
            "1_8 -->  150\n",
            "1_66 -->  178\n",
            "1_69 -->  109\n",
            "2_64 -->  251\n",
            "1_65 -->  235\n",
            "2_67 -->  776\n",
            "2_66 -->  251\n",
            "2_68 -->  191\n",
            "2_69 -->  394\n",
            "2_70 -->  102\n",
            "2_9 -->  147\n",
            "2_8 -->  158\n",
            "2_7 -->  324\n",
            "[('1_64', 663), ('1_7', 65), ('1_9', 30), ('1_68', 268), ('2_65', 2840), ('1_67', 42), ('1_70', 64), ('1_8', 150), ('1_66', 178), ('1_69', 109), ('2_64', 251), ('1_65', 235), ('2_67', 776), ('2_66', 251), ('2_68', 191), ('2_69', 394), ('2_70', 102), ('2_9', 147), ('2_8', 158), ('2_7', 324)]\n"
          ]
        }
      ],
      "source": [
        "# Extract frames from testing videos, in order to make predictions, and store them in the directory \"test_frames\"...code is similar to that of training\n",
        "# videos\n",
        "\n",
        "path = '/content/gdrive/MyDrive/nnfl-2021-assignment-2/test'\n",
        "path1  = '/content/gdrive/MyDrive/nnfl-2021-assignment-2/test_frames'\n",
        "test_list = []\n",
        "\n",
        "for obj in os.listdir(path):                  # Iterating over videos in the directory\n",
        "    x = obj.split('.')\n",
        "    loc =  os.path.join(path,obj)\n",
        "    loc1 =  os.path.join(path1,x[0])\n",
        "    vidObj = cv2.VideoCapture(loc)\n",
        "    count = 0                                   # Used as counter variable\n",
        "    success = 1\n",
        "    while success:                              # Reading all frames of a particular video (vidObj)\n",
        "        success, image = vidObj.read()\n",
        "        if success == 1:\n",
        "            path_name_test = loc1 + '_' + str(count)+'.jpg'\n",
        "            if not os.path.exists(path_name_test):\n",
        "                cv2.imwrite(path_name_test, image)\n",
        "            count += 1\n",
        "\n",
        "        else:\n",
        "            if count < 5:\n",
        "                success = 1\n",
        "\n",
        "            else:\n",
        "                break\n",
        "\n",
        "    test_list.append((x[0],count))\n",
        "    print(x[0], '--> ', count)                  # Prints no. of frames per video     \n",
        "    vidObj.release()\n",
        "\n",
        "print(test_list)"
      ]
    },
    {
      "cell_type": "code",
      "execution_count": null,
      "metadata": {
        "colab": {
          "base_uri": "https://localhost:8080/"
        },
        "id": "orwq_xIxM1o5",
        "outputId": "70802b2d-94dd-4d3c-fdfb-85fb5d8aaf6b"
      },
      "outputs": [
        {
          "name": "stdout",
          "output_type": "stream",
          "text": [
            "20\n",
            "7238\n"
          ]
        }
      ],
      "source": [
        "print(len(test_list))               # Equal to number of testing videos\n",
        "total_img = 0\n",
        "for i in test_list:\n",
        "    total_img += int(i[1])\n",
        "\n",
        "print(total_img)                    # Total images/frames across all testing videos"
      ]
    },
    {
      "cell_type": "code",
      "execution_count": null,
      "metadata": {
        "colab": {
          "base_uri": "https://localhost:8080/"
        },
        "id": "N0kMu6cfM1o6",
        "outputId": "cfba1a90-6f2b-4011-fc7f-5edfc684d953"
      },
      "outputs": [],
      "source": [
        "# Getting all frames for each test video, and storing them in a list of lists.\n",
        "\n",
        "path1  = '/content/gdrive/MyDrive/nnfl-2021-assignment-2/test_frames'\n",
        "\n",
        "all_files_test = [f for f in os.listdir(path1)]\n",
        "get_frames_test = [[] for i in range(len(test_list))]\n",
        "print(all_files_test)\n",
        "\n",
        "temp = [i[0] for i in test_list]\n",
        "\n",
        "for _file in all_files_test:\n",
        "    file_name = _file.split('_')\n",
        "    video_name = file_name[0]+\"_\"+file_name[1]\n",
        "    try:\n",
        "        get_frames_test[temp.index(video_name)].append(_file)\n",
        "        \n",
        "    except:\n",
        "        pass\n",
        "\n",
        "print(get_frames_test)      # get_frames_test will be a list of lists, where each list contains names of all frames of a video. get_frames_test[i] contains frames of test_list[i][0] video."
      ]
    },
    {
      "cell_type": "code",
      "execution_count": null,
      "metadata": {
        "colab": {
          "base_uri": "https://localhost:8080/"
        },
        "id": "6iUXI7raM1o6",
        "outputId": "8fab085e-1f02-4e6c-f2c0-d6d358444273"
      },
      "outputs": [
        {
          "name": "stdout",
          "output_type": "stream",
          "text": [
            "11039\n",
            "20\n"
          ]
        }
      ],
      "source": [
        "print(len(all_files_test))                   \n",
        "print(len(get_frames_test))                 "
      ]
    },
    {
      "cell_type": "code",
      "execution_count": null,
      "metadata": {
        "id": "Qhq1linmM1o6"
      },
      "outputs": [],
      "source": [
        "# req_frames_test contains 10 frames per video in the same order as test_list. So, req_frames_test[i] will have names of 10 equally spaced frames of\n",
        "# video test_list[i][0]\n",
        "req_frames_test = []\n",
        "for i in range(len(get_frames_test)):\n",
        "    x = len(get_frames_test[i]) // 10\n",
        "    req_frames_test.append([])\n",
        "\n",
        "    for j in range(0,len(get_frames_test[i]),x):               # taking frames over interval of x, so that they are equally spaced\n",
        "        req_frames_test[-1].append(get_frames_test[i][j])\n",
        "        if len(req_frames_test[-1]) == 10:\n",
        "            break"
      ]
    },
    {
      "cell_type": "code",
      "execution_count": null,
      "metadata": {
        "id": "XnTtpeIHM1o7"
      },
      "outputs": [],
      "source": [
        "data_test = []\n",
        "directory = \"/content/gdrive/MyDrive/nnfl-2021-assignment-2/test_frames\"\n",
        "\n",
        "for i in range(len(test_list)):\n",
        "    video_num = test_list[i][0]\n",
        "    frames = []                                                   # contains the numpy arrays of images belonging to this video that we would be using\n",
        "    for j in range(len(req_frames_test[i])):\n",
        "        for filename in os.listdir(directory):                    # Iterate over the entire directory to find images of a particular video\n",
        "            f = os.path.join(directory, filename)\n",
        "            image_name = f.split('/')[6]\n",
        "\n",
        "            if image_name==req_frames_test[i][j]:\n",
        "                img_arr = img_to_array(load_img(directory+'/'+image_name, target_size=(128,128)))\n",
        "                frames.append(img_arr)\n",
        "                break\n",
        "\n",
        "    final = np.concatenate([frames], axis=0)                      # concatenate frames depthwise\n",
        "    data_test.append(final)             "
      ]
    },
    {
      "cell_type": "code",
      "execution_count": null,
      "metadata": {
        "id": "2CqVXeIiM1o7"
      },
      "outputs": [],
      "source": [
        "data_test = np.array(data_test)\n",
        "data_test = data_test / 255."
      ]
    },
    {
      "cell_type": "code",
      "execution_count": null,
      "metadata": {
        "colab": {
          "base_uri": "https://localhost:8080/"
        },
        "id": "FinjU40DM1o8",
        "outputId": "cc25064c-ebaa-4799-fca2-b55f743e0311"
      },
      "outputs": [
        {
          "name": "stdout",
          "output_type": "stream",
          "text": [
            "(20, 10, 128, 128, 3)\n"
          ]
        }
      ],
      "source": [
        "print(data_test.shape)              "
      ]
    },
    {
      "cell_type": "code",
      "execution_count": null,
      "metadata": {
        "id": "Vm1qymdF2T7w"
      },
      "outputs": [],
      "source": [
        "# Remember: fire-1 , not_fire-0\n",
        "predict = model.predict(data_test)\n",
        "y_classes = predict.argmax(axis=-1) "
      ]
    },
    {
      "cell_type": "code",
      "execution_count": null,
      "metadata": {
        "colab": {
          "base_uri": "https://localhost:8080/",
          "height": 206
        },
        "id": "IGE78vxwYcsO",
        "outputId": "79925c8c-949a-46c9-ef64-9d04bec2ae19"
      },
      "outputs": [
        {
          "data": {
            "text/html": [
              "<div>\n",
              "<style scoped>\n",
              "    .dataframe tbody tr th:only-of-type {\n",
              "        vertical-align: middle;\n",
              "    }\n",
              "\n",
              "    .dataframe tbody tr th {\n",
              "        vertical-align: top;\n",
              "    }\n",
              "\n",
              "    .dataframe thead th {\n",
              "        text-align: right;\n",
              "    }\n",
              "</style>\n",
              "<table border=\"1\" class=\"dataframe\">\n",
              "  <thead>\n",
              "    <tr style=\"text-align: right;\">\n",
              "      <th></th>\n",
              "      <th>File</th>\n",
              "    </tr>\n",
              "  </thead>\n",
              "  <tbody>\n",
              "    <tr>\n",
              "      <th>0</th>\n",
              "      <td>2_7.avi</td>\n",
              "    </tr>\n",
              "    <tr>\n",
              "      <th>1</th>\n",
              "      <td>2_65.avi</td>\n",
              "    </tr>\n",
              "    <tr>\n",
              "      <th>2</th>\n",
              "      <td>1_65.avi</td>\n",
              "    </tr>\n",
              "    <tr>\n",
              "      <th>3</th>\n",
              "      <td>1_69.avi</td>\n",
              "    </tr>\n",
              "    <tr>\n",
              "      <th>4</th>\n",
              "      <td>1_9.avi</td>\n",
              "    </tr>\n",
              "  </tbody>\n",
              "</table>\n",
              "</div>"
            ],
            "text/plain": [
              "       File\n",
              "0   2_7.avi\n",
              "1  2_65.avi\n",
              "2  1_65.avi\n",
              "3  1_69.avi\n",
              "4   1_9.avi"
            ]
          },
          "execution_count": 25,
          "metadata": {},
          "output_type": "execute_result"
        }
      ],
      "source": [
        "df_test.head()"
      ]
    },
    {
      "cell_type": "code",
      "execution_count": null,
      "metadata": {
        "colab": {
          "base_uri": "https://localhost:8080/",
          "height": 206
        },
        "id": "M9Hq89Y_z9TD",
        "outputId": "6484d0a0-7b58-4b3f-e7d4-44adf31c50fe"
      },
      "outputs": [
        {
          "data": {
            "text/html": [
              "<div>\n",
              "<style scoped>\n",
              "    .dataframe tbody tr th:only-of-type {\n",
              "        vertical-align: middle;\n",
              "    }\n",
              "\n",
              "    .dataframe tbody tr th {\n",
              "        vertical-align: top;\n",
              "    }\n",
              "\n",
              "    .dataframe thead th {\n",
              "        text-align: right;\n",
              "    }\n",
              "</style>\n",
              "<table border=\"1\" class=\"dataframe\">\n",
              "  <thead>\n",
              "    <tr style=\"text-align: right;\">\n",
              "      <th></th>\n",
              "      <th>File</th>\n",
              "      <th>Label</th>\n",
              "    </tr>\n",
              "  </thead>\n",
              "  <tbody>\n",
              "    <tr>\n",
              "      <th>0</th>\n",
              "      <td>2_7.avi</td>\n",
              "      <td>not_fire</td>\n",
              "    </tr>\n",
              "    <tr>\n",
              "      <th>1</th>\n",
              "      <td>2_65.avi</td>\n",
              "      <td>not_fire</td>\n",
              "    </tr>\n",
              "    <tr>\n",
              "      <th>2</th>\n",
              "      <td>1_65.avi</td>\n",
              "      <td>not_fire</td>\n",
              "    </tr>\n",
              "    <tr>\n",
              "      <th>3</th>\n",
              "      <td>1_69.avi</td>\n",
              "      <td>not_fire</td>\n",
              "    </tr>\n",
              "    <tr>\n",
              "      <th>4</th>\n",
              "      <td>1_9.avi</td>\n",
              "      <td>not_fire</td>\n",
              "    </tr>\n",
              "  </tbody>\n",
              "</table>\n",
              "</div>"
            ],
            "text/plain": [
              "       File     Label\n",
              "0   2_7.avi  not_fire\n",
              "1  2_65.avi  not_fire\n",
              "2  1_65.avi  not_fire\n",
              "3  1_69.avi  not_fire\n",
              "4   1_9.avi  not_fire"
            ]
          },
          "execution_count": 26,
          "metadata": {},
          "output_type": "execute_result"
        }
      ],
      "source": [
        "df_sub = pd.read_csv('/content/gdrive/MyDrive/nnfl-2021-assignment-2/Sample Submission.csv')\n",
        "df_sub.head()"
      ]
    },
    {
      "cell_type": "code",
      "execution_count": null,
      "metadata": {
        "id": "005he9E8Y9pd"
      },
      "outputs": [],
      "source": [
        "actual_sub = df_sub.copy()"
      ]
    },
    {
      "cell_type": "code",
      "execution_count": null,
      "metadata": {
        "id": "p8uMmixbZI4D"
      },
      "outputs": [],
      "source": [
        "for i in range(len(actual_sub)):\n",
        "    if y_classes[i]==1:\n",
        "        actual_sub.loc[i, \"Label\"] = \"fire\"\n",
        "    else:\n",
        "        actual_sub.loc[i, \"Label\"] = \"not_fire\""
      ]
    },
    {
      "cell_type": "code",
      "execution_count": null,
      "metadata": {
        "id": "dduEeqeLZ9lY"
      },
      "outputs": [],
      "source": [
        "# Saving the dataframe to a CSV file, so that it can be uploaded on Kaggle\n",
        "actual_sub.to_csv('/content/gdrive/MyDrive/nnfl-2021-assignment-2/sub.csv', index=False)"
      ]
    }
  ],
  "metadata": {
    "colab": {
      "collapsed_sections": [],
      "name": "Assignment2_SJ.ipynb",
      "provenance": []
    },
    "kernelspec": {
      "display_name": "Python 3",
      "name": "python3"
    },
    "language_info": {
      "name": "python"
    }
  },
  "nbformat": 4,
  "nbformat_minor": 0
}
